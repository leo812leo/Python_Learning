{
 "cells": [
  {
   "cell_type": "code",
   "execution_count": 1,
   "metadata": {
    "collapsed": true
   },
   "outputs": [],
   "source": [
    "import pandas as pd\n",
    "import numpy as np\n",
    "import statsmodels.api as sm\n",
    "from scipy import stats\n",
    "import matplotlib.pyplot as plt\n",
    "import seaborn as sns\n",
    "import tejapi\n",
    "import os \n",
    "tejapi.ApiConfig.api_key = \"\"\n",
    "tejapi.ApiConfig.ignoretz=True"
   ]
  },
  {
   "cell_type": "markdown",
   "metadata": {},
   "source": [
    "所輸入的項目:\n",
    "scr:總分   scrd:ADE減分   scl:規模\n",
    "ern:獲利   saf:安全   act:效率   roe:淨值報酬%   \n",
    "roa:資產報酬%   a_acid:速動比率   int_r:利息支出率   \n",
    "cfo:營業活動之現金流量   xcsh:現金充裕度   \n",
    "a_ov_i:過度投資額\t   tt1:升降   mt_div:現金股利(元)\t\n",
    "mt_cash;現金認購%   cashback:減資每股退還現金\t   "
   ]
  },
  {
   "cell_type": "code",
   "execution_count": 2,
   "metadata": {},
   "outputs": [
    {
     "name": "stdout",
     "output_type": "stream",
     "text": [
      "done\n"
     ]
    }
   ],
   "source": [
    "#此部分僅列出 檔名對應哪一支股票代碼\n",
    "\n",
    "path = \"C:/Users/temp.fin/Desktop/多事件影響投報分析/raw_events\"\n",
    "\n",
    "\n",
    "os.chdir(path)\n",
    "all_coid = None\n",
    "\n",
    "for filename in os.listdir(os.getcwd()):\n",
    "    events = pd.read_csv(filename)\n",
    "    for EVENT_NO in events['coid'].unique():\n",
    "        roi_all = pd.DataFrame(columns=['coid','filename'])\n",
    "        roi_all['coid'] = events['coid'].values\n",
    "        roi_all['filename'] = filename.strip('.csv') \n",
    "        roi_all = roi_all.drop_duplicates(subset=['coid'], keep='first',inplace=False)\n",
    "        if all_coid is None:\n",
    "            all_coid = roi_all\n",
    "        else:        \n",
    "            all_coid = all_coid.append(roi_all)\n",
    "\n",
    "all_coid = all_coid.reset_index(drop=True)   \n",
    "all_coid.to_excel(\"C:/Users/temp.fin/Desktop/多事件影響投報分析/filename_to_coid.xls\")\n",
    "print('done')\n"
   ]
  },
  {
   "cell_type": "code",
   "execution_count": 3,
   "metadata": {
    "collapsed": true
   },
   "outputs": [],
   "source": [
    "# 建立市場迴歸函數 (CAMP)\n",
    "def linreg(x,y):\n",
    "    \n",
    "    x = sm.add_constant(x)  #增加常數項\n",
    "    model = sm.OLS(y,x).fit()\n",
    "    return model.params[0] , model.params[1]"
   ]
  },
  {
   "cell_type": "code",
   "execution_count": 4,
   "metadata": {
    "collapsed": true
   },
   "outputs": [],
   "source": [
    "# 將輸入的事件來計算A,B 值\n",
    "def train_data(events):\n",
    "    events_day = events[events['DATE_NO'] == 0]\n",
    "    test_data = None\n",
    "    for row in events_day.index: \n",
    "        event_no = events.loc[row,'EVENT_NO']\n",
    "        data_target = events.iloc[row:row+100,]\n",
    "        test = data_target[np.logical_or(data_target['DATE_NO'] != 0 , data_target.index == row )]\n",
    "        if(test.shape[0]>90):\n",
    "            this_sample = test.copy()\n",
    "            sigma = np.std(this_sample.loc[(this_sample['roi'].isnull()==False)&(this_sample['DATE_NO']!=0),'roi'].values)\n",
    "            mu = np.mean(this_sample.loc[(this_sample['roi'].isnull()==False)&(this_sample['DATE_NO']!=0),'roi'].values)\n",
    "            this_sample['sigma'] = sigma\n",
    "            this_sample['mu'] = mu\n",
    "            this_sample['roi_c'] = this_sample['roi'].astype(np.float64)\n",
    "            this_sample['roi_std'] = (this_sample['roi'] - this_sample['mu'])/this_sample['sigma']\n",
    "            this_sample['roi_ctd'] = (this_sample['roi_c'] - this_sample['mu'])/this_sample['sigma']\n",
    "            regress_ans = linreg(this_sample.loc[(this_sample['roi'].isnull()==False)&(this_sample['DATE_NO']!=0),'roi_m'].values,\n",
    "                                 this_sample.loc[(this_sample['roi'].isnull()==False)&(this_sample['DATE_NO']!=0),'roi'].values)\n",
    "       \n",
    "            this_sample['alpha'] = regress_ans[0]\n",
    "            this_sample['beta'] = regress_ans[1]\n",
    "            this_sample['roi_p'] = this_sample['alpha'] + this_sample['beta']*this_sample['roi_m']\n",
    "            this_sample['roi_p_std'] =(this_sample['roi_p'] - this_sample['mu'])/this_sample['sigma'] \n",
    "            if test_data is None:\n",
    "                test_data = this_sample[this_sample['EVENT_NO']==event_no]\n",
    "            else:\n",
    "                test_data = test_data.append(this_sample[this_sample['EVENT_NO']==event_no])   \n",
    "        \n",
    "    \n",
    "    #final_data = test_data[test_data['DATE_NO']== 0]; return test_data\n",
    "    #final_data.to_excel(\"C:/Users/temp.fin/Desktop/final_data.xls\")\n",
    "    test_data['noise'] = test_data['roi_p_std']-test_data['roi_ctd']\n",
    "    return test_data"
   ]
  },
  {
   "cell_type": "code",
   "execution_count": null,
   "metadata": {},
   "outputs": [
    {
     "name": "stdout",
     "output_type": "stream",
     "text": [
      "共 :1702 個檔案\n",
      "已處理 :1個  event1.csv 5345\n",
      "已處理 :2個  event10.csv 9950\n",
      "已處理 :3個  event100.csv 3325\n",
      "已處理 :4個  event1000.csv 2514\n",
      "已處理 :5個  event1001.csv 2509\n",
      "已處理 :6個  event1002.csv 2506\n",
      "已處理 :7個  event1003.csv 2504\n",
      "已處理 :8個  event1004.csv 2501\n",
      "已處理 :9個  event1005.csv 2499\n",
      "已處理 :10個  event1006.csv 2496\n",
      "已處理 :11個  event1007.csv 2495\n"
     ]
    }
   ],
   "source": [
    "path = \"C:/Users/temp.fin/Desktop/多事件影響投報分析/raw_events\"\n",
    "os.chdir(path)\n",
    "\n",
    "Normality_coid = None\n",
    "Non_N_coid =  None\n",
    "index = 0\n",
    "\n",
    "print(\"共 :\" + str(len([name for name in os.listdir(path) if os.path.isfile(os.path.join(path, name))]))\n",
    "      +\" 個檔案\") \n",
    "\n",
    "for filename in os.listdir(os.getcwd()):\n",
    "    index=index+1\n",
    "    print(\"已處理 :\" + str(index) + \"個  \" +filename , end=\" \") \n",
    "    \n",
    "    events = pd.read_csv(filename)\n",
    "    if(len(events)<100):\n",
    "        print(\"訓練期不足\")\n",
    "        continue\n",
    "    else:       \n",
    "        test_data = train_data(events)\n",
    "        print(test_data.iloc[1,3])\n",
    "            \n",
    "        for EVENT_NO in test_data['EVENT_NO'].unique():\n",
    "            this_sample =  test_data[test_data['EVENT_NO'] == EVENT_NO] \n",
    "            if(len(this_sample['noise'])>3):   #單次事件發生有為期三天以上才討論是否常態\n",
    "                # p-value > 0.05，資料符合常態分布。\n",
    "                if(stats.shapiro(this_sample['noise'])[1] <= 0.05):  \n",
    "                    \n",
    "                    this_sample.to_excel(\"C:/Users/temp.fin/Desktop/多事件影響投報分析/Non_N_coid_events/coid\"\n",
    "                                         + str(this_sample.iloc[1,3])+\"_events\"+str(EVENT_NO)+\".xls\")\n",
    "                    if Non_N_coid is None:\n",
    "                        Non_N_coid = this_sample\n",
    "                    else:\n",
    "                        Non_N_coid = Non_N_coid.append(this_sample) \n",
    "                \n",
    "                else:        \n",
    "                    this_sample.to_excel(\"C:/Users/temp.fin/Desktop/多事件影響投報分析/Normality_coid_events/coid\"\n",
    "                                         + str(this_sample.iloc[1,3])+\"_events\"+str(EVENT_NO)+\".xls\")\n",
    "                    if Normality_coid is None:\n",
    "                        Normality_coid = this_sample\n",
    "                    else:\n",
    "                        Normality_coid = Normality_coid.append(this_sample) \n",
    "print(\"done\")"
   ]
  },
  {
   "cell_type": "code",
   "execution_count": 93,
   "metadata": {},
   "outputs": [
    {
     "name": "stdout",
     "output_type": "stream",
     "text": [
      "符合常態者 : 504\n",
      "不符合常態者 : 1158\n"
     ]
    },
    {
     "data": {
      "image/png": "[encoded data removed]",
      "text/plain": [
       "<Figure size 432x432 with 3 Axes>"
      ]
     },
     "metadata": {},
     "output_type": "display_data"
    },
    {
     "data": {
      "image/png": "[encoded data removed]",
      "text/plain": [
       "<Figure size 432x432 with 3 Axes>"
      ]
     },
     "metadata": {},
     "output_type": "display_data"
    }
   ],
   "source": [
    "print(coid)\n",
    "print(coid_nnorm)\n",
    "print(\"符合常態者 : \" + str(len(coid)) )\n",
    "print(\"不符合常態者 : \" + str(len(coid_nnorm)) )\n",
    "\n",
    "#符合常態者，相關性的形狀\n",
    "x = Normality_coid['roi_p_std'] \n",
    "y = Normality_coid['roi_ctd']\n",
    "with sns.axes_style(\"white\"):\n",
    "    sns.jointplot(x=x, y=y, color=\"k\");\n",
    "    plt.show()\n",
    "\n",
    "#不符合常態者，相關性的形狀\n",
    "x = Non_N_coid['roi_p_std'] \n",
    "y = Non_N_coid['roi_ctd']\n",
    "with sns.axes_style(\"white\"):\n",
    "    sns.jointplot(x=x, y=y, color=\"k\");\n",
    "    plt.show()\n",
    "    \n",
    "    \n",
    "t_test= stats.ttest_ind(Normality_coid['roi_p_std'], Normality_coid['roi_ctd']) \n",
    "print('T檢定-T值：', t_test[0] )\n",
    "print('T檢定-P值：', t_test[1] )\n",
    "\n",
    "#無母數檢定\n",
    "w_test = stats.wilcoxon( Normality_coid['roi_p_std'], Normality_coid['roi_ctd'])\n",
    "print('無母數檢定-P值：', w_test[1] )"
   ]
  },
  {
   "cell_type": "code",
   "execution_count": null,
   "metadata": {
    "collapsed": true
   },
   "outputs": [],
   "source": []
  }
 ],
 "metadata": {
  "kernelspec": {
   "display_name": "Python 3",
   "language": "python",
   "name": "python3"
  },
  "language_info": {
   "codemirror_mode": {
    "name": "ipython",
    "version": 3
   },
   "file_extension": ".py",
   "mimetype": "text/x-python",
   "name": "python",
   "nbconvert_exporter": "python",
   "pygments_lexer": "ipython3",
   "version": "3.6.3"
  }
 },
 "nbformat": 4,
 "nbformat_minor": 2
}
