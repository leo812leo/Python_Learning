{
 "cells": [
  {
   "cell_type": "markdown",
   "metadata": {},
   "source": [
    "# 班傑明．葛拉漢(Benjamin Graham)經典價值型投資法"
   ]
  },
  {
   "cell_type": "markdown",
   "metadata": {},
   "source": [
    "班傑明．葛拉漢(Benjamin Graham)是華爾街公認的證券分析之父，1894年生於倫敦，1895年舉家遷居紐約，9歲時父親過世，幼年生活困苦，1914年畢業於哥倫比亞大學，進入證券經紀商紐伯格公司(Newbuger Henderson&Loeb)擔任統計分析的工作，1923年離職後，創立第一個私人基金-葛蘭赫公司，初試啼聲操作績效即非常優異，1925年因合夥人意見不合而清算解散，1926年和友人合資設立葛拉漢聯合投資帳戶(Joint Account)，至1929年初資金規模由45萬美元成長至250萬美元(非新投資者)，一夕之間，葛拉漢之名成為華爾街的寵兒，多家上市公司的所有人皆希望葛拉漢為他們負責合夥基金，但皆因葛拉漢認為股市已過度飆漲而挽拒，1929年，葛拉漢回到母校開課，教導證券分析的方法，1934年和陶德(David L. Dodd)合著「有價證券分析」(Security Analysis)一書，成為證券分析的開山始祖，在葛拉漢之前，證券分析仍不能被視為一門學問，此書至今仍未絕版，且是大學證券分析的標準教科書之一，當代著名的基金經理人如華倫．巴菲特(Warren Buffett)，約翰．奈夫(John Neff)，湯姆．芮普(Tom Knapp)等皆是葛拉漢的學生，目前華爾街只要是標榜價值投資法的基金經理人，也都是葛拉漢的徒子徒孫，葛拉漢於1960年解散經營20年的葛拉漢．紐曼公司(Graham Newman)，並退休，1976年去世，留下逾300萬美元的遺產，另著有智慧型股票投資人一書(The Intelligent Investor: A Book of Practical Counsel)一書，本方法即是此書中的投資原則的重點。"
   ]
  },
  {
   "cell_type": "markdown",
   "metadata": {},
   "source": [
    "# 投資策略說明"
   ]
  },
  {
   "cell_type": "markdown",
   "metadata": {},
   "source": [
    "　這是葛拉漢最完整的投資十大指標，但葛拉漢晚年承認，可以完全滿足這十項指標的公司越來越少了，因此在查爾斯．布蘭帝(Charles H. Brandes)向葛拉漢請益時，葛拉漢認為只要同時符合價值五法及安全五法中的任一項，即可視為投資標的。"
   ]
  },
  {
   "cell_type": "markdown",
   "metadata": {},
   "source": [
    "價值五法：\n",
    "\n",
    "1.盈餘價格比率是三A級公司債的兩倍以上。\n",
    "\n",
    "2.本益比低於近五年市場最高本益比的40%，(或本益比低於市場平均本益比10%以下)。\n",
    "\n",
    "3.股利獲利率至少是三A級公司債的三分之二以上。\n",
    "\n",
    "4.股價是有形帳面價值的三分之二以下。\n",
    "\n",
    "5.股價是可立即變現淨值(流動資產-總負債)的三分之二以下。"
   ]
  },
  {
   "cell_type": "markdown",
   "metadata": {},
   "source": [
    "安全五法：\n",
    "\n",
    "1.總負債低於有形帳面價值。\n",
    "\n",
    "2.流動比率>200%。\n",
    "\n",
    "3.總負債小於可立即變現淨值。\n",
    "\n",
    "4.獲利率近十年達200%(或十年內每年盈餘成長率平均7%以上)\n",
    "\n",
    "5.近十年盈餘成長率為負5%以上年度不得超過兩年。"
   ]
  },
  {
   "cell_type": "markdown",
   "metadata": {},
   "source": [
    "# 比率計算公式"
   ]
  },
  {
   "cell_type": "markdown",
   "metadata": {},
   "source": [
    "A. 稅前盈餘成長率=(年度稅前盈餘-前一年度稅前盈餘)÷前一年度稅前盈餘*100\n",
    "\n",
    "B. 流動比率=流動資產/流動負債*100"
   ]
  },
  {
   "cell_type": "code",
   "execution_count": 8,
   "metadata": {
    "collapsed": true
   },
   "outputs": [],
   "source": [
    "#進行各指標計算\n",
    "def calculate(tejtool):\n",
    "    \n",
    "    #價值五法\n",
    "    #1.盈餘價格比率是AAA級公司債的兩倍以上\n",
    "    #2019年 元大20年期以上AAA至A級美元公司債券殖利率 3.34%\n",
    "    \n",
    "    tejtool.data['盈餘殖利率'] = tejtool.data['近四季常續性每股盈餘']/ tejtool.data['股價']\n",
    "    tejtool.data['CHK1']= tejtool.check_above('盈餘殖利率',6.68,window='1d')\n",
    "        \n",
    "    #2.本益比低於近五年市場最高本益比的40%，(或本益比低於市場平均本益比10%以下)\n",
    "    tejtool.data['市場平均本益比'] = tejtool.calculate_crossing('近四季常續性每股盈餘', window = '1d' , col_kind = 'mean')\n",
    "    tejtool.data['本益比/市場平均本益比'] = tejtool.data['近四季常續性每股盈餘']/tejtool.data['市場平均本益比']\n",
    "    tejtool.data['CHK2'] = tejtool.check_above(0.1, '本益比/市場平均本益比' , window ='1d')\n",
    "    \n",
    "    \n",
    "    #3.股利獲利率至少是AAA級公司債的三分之二以上(2.23%以上)\n",
    "    tejtool.data['股價確認'] = tejtool.data['股價']\n",
    "    tejtool.data['年平均股價'] = tejtool.calculate_moving('股價',window='12m',col_kind='mean')\n",
    "    tejtool.data['年平均股利率'] = tejtool.data['每股現金股利']/tejtool.data['年平均股價']                                                                                                                                          \n",
    "    tejtool.data['CHK3'] = tejtool.check_above('年平均股利率', 2.23 , window ='1d')\n",
    "    \n",
    "    #4.股價是有形帳面價值的三分之二以下\n",
    "    tejtool.data['股價/有形帳面價值'] = tejtool.data['股價確認'] / (tejtool.data['資產總額']-tejtool.data['無形資產合計'] )                                                                     \n",
    "    tejtool.data['CHK4'] = tejtool.check_above( 0.66 , '股價/有形帳面價值' , window ='1d')\n",
    "                                                                          \n",
    "    #5.股價是可立即變現淨值(流動資產-總負債)的三分之二以下\n",
    "    tejtool.data['股價確認'] = tejtool.data['股價']\n",
    "    tejtool.data['股價/立即變現淨值'] =  tejtool.data['股價確認'] /(tejtool.data['流動資產'] - tejtool.data['負債總額'] )                                                                   \n",
    "    tejtool.data['CHK5'] = tejtool.check_above( 0.66, '股價/立即變現淨值', window ='1d')\n",
    "\n",
    "    \n",
    "    #安全五法\n",
    "    #6.總負債低於有形帳面價值\n",
    "    tejtool.data['有形帳面價值'] = tejtool.data['資產總額']-tejtool.data['無形資產合計'] \n",
    "    tejtool.data['負債總額'] = tejtool.data['負債總額']\n",
    "    tejtool.data['CHK6'] = tejtool.check_above( '有形帳面價值', '負債總額', window='1d')\n",
    "        \n",
    "    #7.流動比率>200%    \n",
    "    tejtool.data['流動比率'] = tejtool.data['流動資產']/tejtool.data['流動負債']\n",
    "    tejtool.data['CHK7'] = tejtool.check_above('流動比率', 2 , window ='1d')\n",
    "    \n",
    "    #8.總負債小於可立即變現淨值\n",
    "    tejtool.data['立即變現淨值'] = tejtool.data['流動資產'] - tejtool.data['負債總額']                            \n",
    "    tejtool.data['CHK8'] = tejtool.check_above('立即變現淨值', '負債總額' , window ='1d')\n",
    "                              \n",
    "    #9.獲利率近十年達200%(或十年內每年盈餘成長率平均7.2%以上)                              \n",
    "    tejtool.data['十年平均盈餘成長率'] = tejtool.calculate_moving('稅後淨利成長率',window='10y',col_kind='mean')\n",
    "    tejtool.data['CHK9'] = tejtool.check_above('十年平均盈餘成長率', 7.2 , window ='1d')\n",
    "    \n",
    "    #10.近十年盈餘成長率為負5%以上年度不得超過兩年 (沒有此功能)\n",
    "    #需要10年的盈餘成長率資料才能進行計算    \n",
    "    #tejtool.data['盈餘成長率'] = tejtool.data['稅後淨利成長率', window ='10y']\n",
    "   # tejtool.data['CHK10'] = tejtool.check_above('稅後淨利成長率', -5 , window ='1d')\n",
    "    \n",
    "   \n",
    "    \n",
    "def output(tejtool): \n",
    "    #輸出圖表設定\n",
    "    tejtool.output_indicator(['盈餘殖利率','市場平均本益比'])\n",
    "    tejtool.output_indicator(['本益比/市場平均本益比'])\n",
    "    tejtool.output_indicator(['年平均股利率'])\n",
    "    tejtool.output_indicator(['股價/有形帳面價值'])\n",
    "                              \n",
    "    tejtool.output_indicator(['有形帳面價值','負債總額'])\n",
    "    tejtool.output_indicator(['流動比率'])\n",
    "    tejtool.output_indicator(['立即變現淨值','負債總額'])\n",
    "    tejtool.output_indicator(['十年平均盈餘成長率'])                                             \n",
    "\n",
    "                              \n",
    "#控制選股與否、投資比重等\n",
    "def evaluate(tejtool):\n",
    "    \n",
    "    #判斷哪些股票要買或不買，然後以均等投資金額來決定持股股數    \n",
    "    #判斷購入條件\n",
    "    tejtool.data['購入'] = tejtool.check_condition(['CHK1','CHK2','CHK3','CHK4','CHK5','CHK6','CHK7','CHK8','CHK9'],'or')   \n",
    "\n",
    "    #使用均等投資金額來分配投資比重\n",
    "    tejtool.data['unit'] = tejtool.equal_pv()\n",
    "  \n"
   ]
  }
 ],
 "metadata": {
  "kernelspec": {
   "display_name": "Python 3",
   "language": "python",
   "name": "python3"
  },
  "language_info": {
   "codemirror_mode": {
    "name": "ipython",
    "version": 3
   },
   "file_extension": ".py",
   "mimetype": "text/x-python",
   "name": "python",
   "nbconvert_exporter": "python",
   "pygments_lexer": "ipython3",
   "version": "3.6.3"
  }
 },
 "nbformat": 4,
 "nbformat_minor": 2
}
