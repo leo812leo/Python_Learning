{
 "cells": [
  {
   "cell_type": "markdown",
   "metadata": {},
   "source": [
    "# 使用pandas+sqlite3快速儲存/讀取你要使用的資料"
   ]
  },
  {
   "cell_type": "code",
   "execution_count": 2,
   "metadata": {
    "collapsed": true
   },
   "outputs": [],
   "source": [
    "import sqlite3\n",
    "import pandas"
   ]
  },
  {
   "cell_type": "code",
   "execution_count": 3,
   "metadata": {},
   "outputs": [
    {
     "data": {
      "text/html": [
       "<div>\n",
       "<style scoped>\n",
       "    .dataframe tbody tr th:only-of-type {\n",
       "        vertical-align: middle;\n",
       "    }\n",
       "\n",
       "    .dataframe tbody tr th {\n",
       "        vertical-align: top;\n",
       "    }\n",
       "\n",
       "    .dataframe thead th {\n",
       "        text-align: right;\n",
       "    }\n",
       "</style>\n",
       "<table border=\"1\" class=\"dataframe\">\n",
       "  <thead>\n",
       "    <tr style=\"text-align: right;\">\n",
       "      <th></th>\n",
       "      <th>zdate</th>\n",
       "      <th>coid</th>\n",
       "      <th>close</th>\n",
       "    </tr>\n",
       "  </thead>\n",
       "  <tbody>\n",
       "    <tr>\n",
       "      <th>0</th>\n",
       "      <td>2020-04-01 00:00:00+00:00</td>\n",
       "      <td>0051</td>\n",
       "      <td>28.67</td>\n",
       "    </tr>\n",
       "    <tr>\n",
       "      <th>1</th>\n",
       "      <td>2020-04-01 00:00:00+00:00</td>\n",
       "      <td>0052</td>\n",
       "      <td>58.75</td>\n",
       "    </tr>\n",
       "    <tr>\n",
       "      <th>2</th>\n",
       "      <td>2020-04-01 00:00:00+00:00</td>\n",
       "      <td>0057</td>\n",
       "      <td>49.93</td>\n",
       "    </tr>\n",
       "    <tr>\n",
       "      <th>3</th>\n",
       "      <td>2020-04-01 00:00:00+00:00</td>\n",
       "      <td>006208</td>\n",
       "      <td>43.54</td>\n",
       "    </tr>\n",
       "    <tr>\n",
       "      <th>4</th>\n",
       "      <td>2020-04-01 00:00:00+00:00</td>\n",
       "      <td>00625K</td>\n",
       "      <td>6.66</td>\n",
       "    </tr>\n",
       "    <tr>\n",
       "      <th>...</th>\n",
       "      <td>...</td>\n",
       "      <td>...</td>\n",
       "      <td>...</td>\n",
       "    </tr>\n",
       "    <tr>\n",
       "      <th>2691</th>\n",
       "      <td>2020-04-01 00:00:00+00:00</td>\n",
       "      <td>TWN50</td>\n",
       "      <td>7548.18</td>\n",
       "    </tr>\n",
       "    <tr>\n",
       "      <th>2692</th>\n",
       "      <td>2020-04-01 00:00:00+00:00</td>\n",
       "      <td>WIT01</td>\n",
       "      <td>11014.69</td>\n",
       "    </tr>\n",
       "    <tr>\n",
       "      <th>2693</th>\n",
       "      <td>2020-04-01 00:00:00+00:00</td>\n",
       "      <td>WIT02</td>\n",
       "      <td>19877.12</td>\n",
       "    </tr>\n",
       "    <tr>\n",
       "      <th>2694</th>\n",
       "      <td>2020-04-01 00:00:00+00:00</td>\n",
       "      <td>Y1100</td>\n",
       "      <td>517.88</td>\n",
       "    </tr>\n",
       "    <tr>\n",
       "      <th>2695</th>\n",
       "      <td>2020-04-01 00:00:00+00:00</td>\n",
       "      <td>Y1200</td>\n",
       "      <td>1602.66</td>\n",
       "    </tr>\n",
       "  </tbody>\n",
       "</table>\n",
       "<p>2696 rows × 3 columns</p>\n",
       "</div>"
      ],
      "text/plain": [
       "                          zdate    coid     close\n",
       "0     2020-04-01 00:00:00+00:00    0051     28.67\n",
       "1     2020-04-01 00:00:00+00:00    0052     58.75\n",
       "2     2020-04-01 00:00:00+00:00    0057     49.93\n",
       "3     2020-04-01 00:00:00+00:00  006208     43.54\n",
       "4     2020-04-01 00:00:00+00:00  00625K      6.66\n",
       "...                         ...     ...       ...\n",
       "2691  2020-04-01 00:00:00+00:00   TWN50   7548.18\n",
       "2692  2020-04-01 00:00:00+00:00   WIT01  11014.69\n",
       "2693  2020-04-01 00:00:00+00:00   WIT02  19877.12\n",
       "2694  2020-04-01 00:00:00+00:00   Y1100    517.88\n",
       "2695  2020-04-01 00:00:00+00:00   Y1200   1602.66\n",
       "\n",
       "[2696 rows x 3 columns]"
      ]
     },
     "execution_count": 3,
     "metadata": {},
     "output_type": "execute_result"
    }
   ],
   "source": [
    "# 使用pandas讀取範例資料檔\n",
    "data = pandas.read_csv('data.csv')\n",
    "data"
   ]
  },
  {
   "cell_type": "code",
   "execution_count": 4,
   "metadata": {
    "collapsed": true
   },
   "outputs": [],
   "source": [
    "# 呼叫connect函式的時候，指定庫名稱，如果指定的資料庫存在就直接開啟這個資料庫，如果不存在就新建立一個再開啟\n",
    "conn = sqlite3.connect(\"test.db\")"
   ]
  },
  {
   "cell_type": "code",
   "execution_count": 5,
   "metadata": {
    "collapsed": true
   },
   "outputs": [],
   "source": [
    "# 使用遊標物件SQL語句查詢資料庫，獲得查詢物件。 通過以下方法來定義一個遊標。\n",
    "cu=conn.cursor()"
   ]
  },
  {
   "cell_type": "markdown",
   "metadata": {},
   "source": [
    "execute()–執行sql語句  \n",
    "executemany–執行多條sql語句  \n",
    "close()–關閉遊標  \n",
    "fetchone()–從結果中取一條記錄，並將遊標指向下一條記錄  \n",
    "fetchmany()–從結果中取多條記錄  \n",
    "fetchall()–從結果中取出所有記錄  \n",
    "scroll()–遊標滾動  "
   ]
  },
  {
   "cell_type": "code",
   "execution_count": 6,
   "metadata": {},
   "outputs": [
    {
     "data": {
      "text/plain": [
       "<sqlite3.Cursor at 0xff0d730>"
      ]
     },
     "execution_count": 6,
     "metadata": {},
     "output_type": "execute_result"
    }
   ],
   "source": [
    "# 建立一張user表，表中有id(主鍵),zdate,coid,close\n",
    "create_str = (\"create table prcdata (id integer primary key,zdate datetime,coid varchar(10),close numeric(18, 4))\")\n",
    "cu.execute(create_str)\n"
   ]
  },
  {
   "cell_type": "markdown",
   "metadata": {},
   "source": [
    "DB Browser for SQLite  \n",
    "  \n",
    "https://sqlitebrowser.org/dl/"
   ]
  },
  {
   "cell_type": "code",
   "execution_count": 7,
   "metadata": {
    "collapsed": true
   },
   "outputs": [],
   "source": [
    "# 直接使用pandas函式指定要寫入的資料表名稱'prcdata'，以及其他參數，執行後就寫入sql\n",
    "data.to_sql(u\"prcdata\", conn, if_exists='append', index=None)"
   ]
  },
  {
   "cell_type": "code",
   "execution_count": 8,
   "metadata": {},
   "outputs": [
    {
     "data": {
      "text/html": [
       "<div>\n",
       "<style scoped>\n",
       "    .dataframe tbody tr th:only-of-type {\n",
       "        vertical-align: middle;\n",
       "    }\n",
       "\n",
       "    .dataframe tbody tr th {\n",
       "        vertical-align: top;\n",
       "    }\n",
       "\n",
       "    .dataframe thead th {\n",
       "        text-align: right;\n",
       "    }\n",
       "</style>\n",
       "<table border=\"1\" class=\"dataframe\">\n",
       "  <thead>\n",
       "    <tr style=\"text-align: right;\">\n",
       "      <th></th>\n",
       "      <th>id</th>\n",
       "      <th>zdate</th>\n",
       "      <th>coid</th>\n",
       "      <th>close</th>\n",
       "    </tr>\n",
       "  </thead>\n",
       "  <tbody>\n",
       "    <tr>\n",
       "      <th>0</th>\n",
       "      <td>1</td>\n",
       "      <td>2020-04-01 00:00:00+00:00</td>\n",
       "      <td>0051</td>\n",
       "      <td>28.67</td>\n",
       "    </tr>\n",
       "    <tr>\n",
       "      <th>1</th>\n",
       "      <td>2</td>\n",
       "      <td>2020-04-01 00:00:00+00:00</td>\n",
       "      <td>0052</td>\n",
       "      <td>58.75</td>\n",
       "    </tr>\n",
       "    <tr>\n",
       "      <th>2</th>\n",
       "      <td>3</td>\n",
       "      <td>2020-04-01 00:00:00+00:00</td>\n",
       "      <td>0057</td>\n",
       "      <td>49.93</td>\n",
       "    </tr>\n",
       "  </tbody>\n",
       "</table>\n",
       "</div>"
      ],
      "text/plain": [
       "   id                      zdate  coid  close\n",
       "0   1  2020-04-01 00:00:00+00:00  0051  28.67\n",
       "1   2  2020-04-01 00:00:00+00:00  0052  58.75\n",
       "2   3  2020-04-01 00:00:00+00:00  0057  49.93"
      ]
     },
     "execution_count": 8,
     "metadata": {},
     "output_type": "execute_result"
    }
   ],
   "source": [
    "# 直接使用pandas函式進行sql的標準query動作\n",
    "df = pandas.read_sql_query(sql=u\"SELECT * FROM prcdata LIMIT :limit\", con=conn, params={\"limit\":3})\n",
    "df"
   ]
  },
  {
   "cell_type": "code",
   "execution_count": null,
   "metadata": {
    "collapsed": true
   },
   "outputs": [],
   "source": []
  }
 ],
 "metadata": {
  "kernelspec": {
   "display_name": "Python 3",
   "language": "python",
   "name": "python3"
  },
  "language_info": {
   "codemirror_mode": {
    "name": "ipython",
    "version": 3
   },
   "file_extension": ".py",
   "mimetype": "text/x-python",
   "name": "python",
   "nbconvert_exporter": "python",
   "pygments_lexer": "ipython3",
   "version": "3.6.3"
  }
 },
 "nbformat": 4,
 "nbformat_minor": 2
}
