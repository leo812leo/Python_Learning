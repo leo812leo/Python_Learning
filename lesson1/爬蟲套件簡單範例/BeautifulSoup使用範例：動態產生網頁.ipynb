{
 "cells": [
  {
   "cell_type": "markdown",
   "metadata": {},
   "source": [
    "# 本範例示範如何使用BeautifulSoup動態控制html"
   ]
  },
  {
   "cell_type": "markdown",
   "metadata": {},
   "source": [
    "## 1.使用BeautifulSoup修改html碼然後產生一個網頁\n",
    "手動製作一個範例如下："
   ]
  },
  {
   "cell_type": "code",
   "execution_count": 2,
   "metadata": {},
   "outputs": [],
   "source": [
    "# 匯入BeautifulSoup\n",
    "from bs4 import BeautifulSoup\n",
    "html = \"\"\"\n",
    "<html><head><title>這是標題</title></head>\n",
    "<body>\n",
    "<div id='body1'>\n",
    "<p class=\"title\" name=\"dromouse\">第一段</p>\n",
    "<p class=\"story\">第一部分內文前半段\n",
    "<a href=\"http://example.com/elsie\" class=\"link\" id=\"link1\">連結一</a>,\n",
    "<a href=\"http://example.com/lacie\" class=\"link\" id=\"link2\">連結二</a> and\n",
    "<a href=\"http://example.com/tillie\" class=\"link\" id=\"link3\">連結三</a>;\n",
    "第一部分內文後半段</p></div>\n",
    "<div id='body2'>\n",
    "<p class=\"title\" name=\"dromouse\"><b>第一段</b></p>\n",
    "<p class=\"story\">第二部分內文</p></div>\n",
    "\"\"\"\n"
   ]
  },
  {
   "cell_type": "code",
   "execution_count": null,
   "metadata": {
    "collapsed": true
   },
   "outputs": [],
   "source": [
    "# 產生soup物件，BeautifulSoup套件會把html讀取後變成一個可以控制的物件\n",
    "soup=BeautifulSoup(html,'lxml')\n",
    "# 寫入成一個真的html\n",
    "with open('test_old.html', 'w') as out_file:\n",
    "    out_file.write(soup.prettify())"
   ]
  },
  {
   "cell_type": "code",
   "execution_count": 4,
   "metadata": {},
   "outputs": [
    {
     "name": "stdout",
     "output_type": "stream",
     "text": [
      "<head><title>這是標題</title></head>\n",
      "<head><title>這是新的標題</title></head>\n"
     ]
    }
   ],
   "source": [
    "# 取得html的head部分，以便對html做一點修改\n",
    "print(soup.head)\n",
    "soup.head = '<head><title>這是新的標題</title></head>'\n",
    "print(soup.head)"
   ]
  },
  {
   "cell_type": "code",
   "execution_count": 3,
   "metadata": {
    "collapsed": true
   },
   "outputs": [],
   "source": [
    "# 寫入成新的html\n",
    "with open('test_new.html', 'w') as out_file:\n",
    "    out_file.write(soup.prettify())"
   ]
  },
  {
   "cell_type": "markdown",
   "metadata": {},
   "source": [
    "試著比較看看，修改後的差異是否成功出現"
   ]
  },
  {
   "cell_type": "markdown",
   "metadata": {},
   "source": [
    "## 2.find_all html文件搜尋器\n",
    "可以傳入KeyWords：  \n",
    "1.node類別  \n",
    "2.可以指定該類別的屬性&屬性值\n"
   ]
  },
  {
   "cell_type": "code",
   "execution_count": 6,
   "metadata": {},
   "outputs": [
    {
     "data": {
      "text/plain": [
       "[<div id=\"body1\">\n",
       " <p class=\"title\" name=\"dromouse\">第一段</p>\n",
       " <p class=\"story\">第一部分內文前半段\n",
       " <a class=\"link\" href=\"http://example.com/elsie\" id=\"link1\">連結一</a>,\n",
       " <a class=\"link\" href=\"http://example.com/lacie\" id=\"link2\">連結二</a> and\n",
       " <a class=\"link\" href=\"http://example.com/tillie\" id=\"link3\">連結三</a>;\n",
       " 第一部分內文後半段</p></div>, <div id=\"body2\">\n",
       " <p class=\"title\" name=\"dromouse\"><b>第一段</b></p>\n",
       " <p class=\"story\">第二部分內文</p></div>]"
      ]
     },
     "execution_count": 6,
     "metadata": {},
     "output_type": "execute_result"
    }
   ],
   "source": [
    "ps=soup.find_all(\"div\") #p,div,title\n",
    "ps"
   ]
  },
  {
   "cell_type": "code",
   "execution_count": 7,
   "metadata": {},
   "outputs": [
    {
     "data": {
      "text/plain": [
       "[<p class=\"title\" name=\"dromouse\">第一段</p>,\n",
       " <p class=\"title\" name=\"dromouse\"><b>第一段</b></p>]"
      ]
     },
     "execution_count": 7,
     "metadata": {},
     "output_type": "execute_result"
    }
   ],
   "source": [
    "s = soup.find_all(\"p\",attrs={'class':'title'}) \n",
    "s"
   ]
  },
  {
   "cell_type": "code",
   "execution_count": 8,
   "metadata": {},
   "outputs": [
    {
     "data": {
      "text/plain": [
       "['連結一', '連結二', '連結三']"
      ]
     },
     "execution_count": 8,
     "metadata": {},
     "output_type": "execute_result"
    }
   ],
   "source": [
    "import re #正則式運作built-in module\n",
    "a = soup.find_all(text=re.compile(\"連結\"))\n",
    "a"
   ]
  },
  {
   "cell_type": "code",
   "execution_count": 9,
   "metadata": {},
   "outputs": [
    {
     "data": {
      "text/plain": [
       "[<a class=\"link\" href=\"http://example.com/elsie\" id=\"link1\">連結一</a>,\n",
       " <a class=\"link\" href=\"http://example.com/lacie\" id=\"link2\">連結二</a>,\n",
       " <a class=\"link\" href=\"http://example.com/tillie\" id=\"link3\">連結三</a>]"
      ]
     },
     "execution_count": 9,
     "metadata": {},
     "output_type": "execute_result"
    }
   ],
   "source": [
    "import re #正則式運作built-in module\n",
    "a = soup.find_all(id=re.compile(\"link\"))\n",
    "a"
   ]
  },
  {
   "cell_type": "markdown",
   "metadata": {},
   "source": [
    "## 3.select css搜尋器  \n",
    "運作方式類似jquery，也就是js的Document.getElementById()等函式"
   ]
  },
  {
   "cell_type": "code",
   "execution_count": 10,
   "metadata": {},
   "outputs": [
    {
     "name": "stdout",
     "output_type": "stream",
     "text": [
      "[<a class=\"link\" href=\"http://example.com/elsie\" id=\"link1\">連結一</a>]\n"
     ]
    }
   ],
   "source": [
    "print(soup.select('#link1'))"
   ]
  },
  {
   "cell_type": "code",
   "execution_count": 11,
   "metadata": {},
   "outputs": [
    {
     "name": "stdout",
     "output_type": "stream",
     "text": [
      "[<a class=\"link\" href=\"http://example.com/elsie\" id=\"link1\">連結一</a>]\n"
     ]
    }
   ],
   "source": [
    "print(soup.select('p #link1'))"
   ]
  },
  {
   "cell_type": "code",
   "execution_count": 12,
   "metadata": {},
   "outputs": [
    {
     "name": "stdout",
     "output_type": "stream",
     "text": [
      "[<title>這是標題</title>]\n"
     ]
    }
   ],
   "source": [
    "print(soup.select(\"head > title\"))"
   ]
  },
  {
   "cell_type": "code",
   "execution_count": 13,
   "metadata": {},
   "outputs": [
    {
     "name": "stdout",
     "output_type": "stream",
     "text": [
      "[<a class=\"link\" href=\"http://example.com/elsie\" id=\"link1\">連結一</a>, <a class=\"link\" href=\"http://example.com/lacie\" id=\"link2\">連結二</a>, <a class=\"link\" href=\"http://example.com/tillie\" id=\"link3\">連結三</a>]\n"
     ]
    }
   ],
   "source": [
    "print(soup.select('a[class=\"link\"]'))"
   ]
  },
  {
   "cell_type": "markdown",
   "metadata": {},
   "source": [
    "https://jasonblog.github.io/note/python/pythonpa_chong_zhi_beautifulsoup.html\n",
    "https://ithelp.ithome.com.tw/articles/10191165"
   ]
  }
 ],
 "metadata": {
  "kernelspec": {
   "display_name": "Python 3",
   "language": "python",
   "name": "python3"
  },
  "language_info": {
   "codemirror_mode": {
    "name": "ipython",
    "version": 3
   },
   "file_extension": ".py",
   "mimetype": "text/x-python",
   "name": "python",
   "nbconvert_exporter": "python",
   "pygments_lexer": "ipython3",
   "version": "3.6.3"
  }
 },
 "nbformat": 4,
 "nbformat_minor": 2
}
