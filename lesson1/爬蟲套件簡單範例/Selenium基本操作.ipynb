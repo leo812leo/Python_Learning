{
 "cells": [
  {
   "cell_type": "markdown",
   "metadata": {},
   "source": [
    "### chrome版\n",
    "from selenium import webdriver\n",
    "from selenium.webdriver.chrome.options import Options\n",
    "\n",
    "options.binary_location = \"C:\\\\Program Files (x86)\\\\Google\\\\Chrome\\\\Application\\\\chrome.exe\"\n",
    "webdriver_path = 'chromedriver.exe'\n",
    "options = Options()\n",
    "driver = webdriver.Chrome(executable_path=webdriver_path, options=options)\n"
   ]
  },
  {
   "cell_type": "code",
   "execution_count": 26,
   "metadata": {
    "collapsed": true
   },
   "outputs": [],
   "source": [
    "### firefox版，產生瀏覽器控制driver\n",
    "from selenium import webdriver\n",
    "from selenium.webdriver.firefox.firefox_binary import FirefoxBinary\n",
    "\n",
    "firefox_path = 'C:\\\\Program Files\\\\Mozilla Firefox\\\\firefox.exe' # 改成你自己firefox.exe的位置\n",
    "webdriver_path = 'geckodriver.exe' # 改成你檔案的位置\n",
    "binary = FirefoxBinary(firefox_path)\n",
    "driver = webdriver.Firefox() #開啟firefox\n",
    "\n"
   ]
  },
  {
   "cell_type": "code",
   "execution_count": 28,
   "metadata": {
    "scrolled": true
   },
   "outputs": [],
   "source": [
    "# 透過xpath尋找要素\n",
    "driver.get(\"https://www.tpex.org.tw/\")\n",
    "#start_search_btn = driver.find_element_by_id(\"gtsm-menu\")\n",
    "#start_search_btn.click()\n",
    "start_search_btn = driver.find_elements_by_xpath('//a[@title=\"債券\"]')[0]\n",
    "start_search_btn.click()\n",
    "start_search_btn = driver.find_elements_by_xpath('//a[@title=\"交易資訊\"]')[0]\n",
    "start_search_btn.click()\n",
    "start_search_btn = driver.find_elements_by_xpath('//a[@title=\"公債與公司債統計報表\"]')[0]\n",
    "start_search_btn.click()"
   ]
  },
  {
   "cell_type": "code",
   "execution_count": 11,
   "metadata": {},
   "outputs": [
    {
     "data": {
      "text/plain": [
       "<selenium.webdriver.firefox.webelement.FirefoxWebElement (session=\"39b4a2c4-07a4-44b9-b558-f57f78676dcf\", element=\"a79b7675-a6e1-45e0-8a90-6f49409dd9a3\")>"
      ]
     },
     "execution_count": 11,
     "metadata": {},
     "output_type": "execute_result"
    }
   ],
   "source": [
    "# 透過xpath取得整個body\n",
    "start_search_btn = driver.find_elements_by_xpath('/html/body')[0]\n",
    "start_search_btn"
   ]
  },
  {
   "cell_type": "code",
   "execution_count": 15,
   "metadata": {
    "collapsed": true
   },
   "outputs": [],
   "source": [
    "driver.get(\"https://www.tpex.org.tw/web/bond/tradeinfo/govbond/GovBondDaily.php?l=zh-tw\")"
   ]
  },
  {
   "cell_type": "code",
   "execution_count": 24,
   "metadata": {
    "collapsed": true
   },
   "outputs": [],
   "source": [
    "# 透過抓檔網址取得特定檔案\n",
    "start_search_btn = driver.find_elements_by_xpath('//a[@href=\"/web/bond/tradeinfo/govbond/GovBondDaily_04.php?l=zh-tw\"]')[0]\n",
    "start_search_btn.click()\n",
    "start_search_btn = driver.find_elements_by_xpath('//a[@href=\"/storage/bond_zone/tradeinfo/govbond//2020/202004/BDdys507.20200410-C.xls\"]')[0]\n",
    "start_search_btn.click()"
   ]
  },
  {
   "cell_type": "code",
   "execution_count": null,
   "metadata": {
    "collapsed": true
   },
   "outputs": [],
   "source": [
    "# 關閉瀏覽器\n",
    "driver.close()"
   ]
  },
  {
   "cell_type": "markdown",
   "metadata": {},
   "source": [
    "https://selenium-python.readthedocs.io/locating-elements.html"
   ]
  },
  {
   "cell_type": "code",
   "execution_count": null,
   "metadata": {
    "collapsed": true
   },
   "outputs": [],
   "source": []
  }
 ],
 "metadata": {
  "kernelspec": {
   "display_name": "Python 3",
   "language": "python",
   "name": "python3"
  },
  "language_info": {
   "codemirror_mode": {
    "name": "ipython",
    "version": 3
   },
   "file_extension": ".py",
   "mimetype": "text/x-python",
   "name": "python",
   "nbconvert_exporter": "python",
   "pygments_lexer": "ipython3",
   "version": "3.6.3"
  }
 },
 "nbformat": 4,
 "nbformat_minor": 2
}
